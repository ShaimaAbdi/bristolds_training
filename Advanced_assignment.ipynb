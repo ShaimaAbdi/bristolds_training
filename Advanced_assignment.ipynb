{
  "nbformat": 4,
  "nbformat_minor": 0,
  "metadata": {
    "colab": {
      "provenance": []
    },
    "kernelspec": {
      "name": "python3",
      "display_name": "Python 3"
    },
    "language_info": {
      "name": "python"
    }
  },
  "cells": [
    {
      "cell_type": "code",
      "execution_count": 1,
      "metadata": {
        "id": "tHcprbdJJkmd"
      },
      "outputs": [],
      "source": [
        "import numpy as np\n"
      ]
    },
    {
      "cell_type": "code",
      "source": [
        "from sklearn.datasets import load_iris\n",
        "import numpy as np\n",
        "import matplotlib.pyplot as plt\n",
        "from sklearn.datasets import load_digits\n",
        "\n",
        "# Load the Iris dataset\n",
        "iris = load_iris()\n",
        "\n",
        "# Load the Digits dataset\n",
        "digits = load_digits()\n"
      ],
      "metadata": {
        "id": "ilAQ_l1RKTjx"
      },
      "execution_count": null,
      "outputs": []
    },
    {
      "cell_type": "code",
      "source": [
        "from sklearn.datasets import load_iris\n",
        "\n",
        "# Load the Iris dataset\n",
        "iris = load_iris()\n",
        "X = iris.data\n",
        "y = iris.target\n",
        "\n",
        "# Calculate the number of samples and features\n",
        "num_samples, num_features = X.shape\n",
        "\n",
        "# Calculate the number of unique classes (species)\n",
        "num_unique_classes = len(np.unique(y))\n"
      ],
      "metadata": {
        "id": "O-AtAkbWKrib"
      },
      "execution_count": null,
      "outputs": []
    },
    {
      "cell_type": "code",
      "source": [
        "print(f\"Number of samples: {num_samples}\")\n",
        "print(f\"Number of features: {num_features}\")\n",
        "print(f\"Number of unique classes: {num_unique_classes}\")\n"
      ],
      "metadata": {
        "colab": {
          "base_uri": "https://localhost:8080/"
        },
        "id": "Xnntprr1K39K",
        "outputId": "37ca2cba-8d22-4830-e967-f74c7d059d69"
      },
      "execution_count": null,
      "outputs": [
        {
          "output_type": "stream",
          "name": "stdout",
          "text": [
            "Number of samples: 150\n",
            "Number of features: 4\n",
            "Number of unique classes: 3\n"
          ]
        }
      ]
    },
    {
      "cell_type": "code",
      "source": [],
      "metadata": {
        "colab": {
          "base_uri": "https://localhost:8080/",
          "height": 180
        },
        "id": "mrULo7ZiLCgo",
        "outputId": "7b077dee-7924-4b2d-b7a1-1b4b707420e2"
      },
      "execution_count": null,
      "outputs": [
        {
          "output_type": "display_data",
          "data": {
            "text/plain": [
              "<Figure size 1000x300 with 5 Axes>"
            ],
            "image/png": "[encoded data removed]"
          },
          "metadata": {}
        }
      ]
    },
    {
      "cell_type": "code",
      "source": [
        "# Calculate the number of samples and features\n",
        "num_samples, num_features = X.shape\n",
        "\n",
        "# Calculate the number of unique classes (species)\n",
        "num_unique_classes = len(np.unique(y))\n",
        "\n",
        "print(f'Number of samples: {num_samples}')\n",
        "print(f'Number of features: {num_features}')\n",
        "print(f'Number of unique classes: {num_unique_classes}')\n"
      ],
      "metadata": {
        "colab": {
          "base_uri": "https://localhost:8080/"
        },
        "id": "xewy8X5xLkIX",
        "outputId": "15fa92d8-b8ab-4747-e63b-e4d5bbe774f8"
      },
      "execution_count": null,
      "outputs": [
        {
          "output_type": "stream",
          "name": "stdout",
          "text": [
            "Number of samples: 1797\n",
            "Number of features: 64\n",
            "Number of unique classes: 10\n"
          ]
        }
      ]
    },
    {
      "cell_type": "code",
      "source": [
        "from sklearn.model_selection import train_test_split\n",
        "\n",
        "# Split the dataset into training and testing sets (80% train, 20% test)\n",
        "X_train, X_test, y_train, y_test = train_test_split(X, y, test_size=0.2, random_state=42)\n",
        "\n",
        "# Print the shapes of the resulting arrays\n",
        "print(f\"X_train shape: {X_train.shape}\")\n",
        "print(f\"X_test shape: {X_test.shape}\")\n",
        "print(f\"y_train shape: {y_train.shape}\")\n",
        "print(f\"y_test shape: {y_test.shape}\")\n"
      ],
      "metadata": {
        "colab": {
          "base_uri": "https://localhost:8080/"
        },
        "id": "jwiGbTT8LztM",
        "outputId": "0ab6d378-d02e-4d28-fc47-abdef573d7c4"
      },
      "execution_count": null,
      "outputs": [
        {
          "output_type": "stream",
          "name": "stdout",
          "text": [
            "X_train shape: (1437, 64)\n",
            "X_test shape: (360, 64)\n",
            "y_train shape: (1437,)\n",
            "y_test shape: (360,)\n"
          ]
        }
      ]
    },
    {
      "cell_type": "code",
      "source": [
        "from sklearn.svm import SVC\n",
        "\n",
        "# Create an SVM classifier with a linear kernel\n",
        "model = SVC(kernel='linear', random_state=42)\n",
        "\n",
        "# Train the model on the training data\n",
        "model.fit(X_train, y_train)\n",
        "\n",
        "# Print confirmation that the model has been trained\n",
        "print(\"Model training complete.\")\n"
      ],
      "metadata": {
        "colab": {
          "base_uri": "https://localhost:8080/"
        },
        "id": "VqhEsgM_L7CH",
        "outputId": "b914be20-2daf-4ee0-8d6f-bf4509ad243e"
      },
      "execution_count": null,
      "outputs": [
        {
          "output_type": "stream",
          "name": "stdout",
          "text": [
            "Model training complete.\n"
          ]
        }
      ]
    },
    {
      "cell_type": "code",
      "source": [
        "\n",
        "# Load the Iris dataset\n",
        "iris = load_iris()\n",
        "X = iris.data\n",
        "y = iris.target\n",
        "\n",
        "# Train an SVM classifier on the Iris dataset\n",
        "model = SVC(kernel='linear', random_state=42)\n",
        "model.fit(X, y)\n",
        "\n",
        "# Define the new sample with the correct shape\n",
        "new_sample = np.array([[6.0, 2.9, 4.5, 1.5]])\n",
        "\n",
        "# Predict the class for the new sample\n",
        "y_pred = model.predict(new_sample)\n",
        "\n",
        "# Retrieve the class name\n",
        "class_name = iris.target_names[y_pred][0]\n",
        "\n",
        "# Print the predicted class\n",
        "print(f\"Predicted class: {class_name}\")\n"
      ],
      "metadata": {
        "colab": {
          "base_uri": "https://localhost:8080/"
        },
        "id": "fcbA2vPfMCeR",
        "outputId": "ee8bca69-b443-4c44-e176-19dd47fa7166"
      },
      "execution_count": null,
      "outputs": [
        {
          "output_type": "stream",
          "name": "stdout",
          "text": [
            "Predicted class: versicolor\n"
          ]
        }
      ]
    },
    {
      "cell_type": "code",
      "source": [
        "\n",
        "# Define the new sample with the correct shape\n",
        "new_sample2 = np.array([[5.7, 3.8, 1.7, 0.3]])\n",
        "\n",
        "# Predict the class for the new sample\n",
        "y_pred = model.predict(new_sample2)\n",
        "\n",
        "# Retrieve the class name\n",
        "class_name = iris.target_names[y_pred][0]\n",
        "\n",
        "# Print the predicted class\n",
        "print(f\"Predicted class: {class_name}\")\n"
      ],
      "metadata": {
        "colab": {
          "base_uri": "https://localhost:8080/"
        },
        "id": "6GJNZMPDPn51",
        "outputId": "ab250a4b-e1ee-41dc-d879-81f1a3729125"
      },
      "execution_count": null,
      "outputs": [
        {
          "output_type": "stream",
          "name": "stdout",
          "text": [
            "Predicted class: setosa\n"
          ]
        }
      ]
    },
    {
      "cell_type": "code",
      "source": [
        "import matplotlib.pyplot as plt\n",
        "\n",
        "# Load the Digits dataset\n",
        "digits = load_digits()\n",
        "X = digits.data\n",
        "y = digits.target\n",
        "\n",
        "# Display the first few images and their corresponding labels\n",
        "fig, axes = plt.subplots(nrows=1, ncols=5, figsize=(10, 3))\n",
        "\n",
        "for i, ax in enumerate(axes):\n",
        "    ax.imshow(X[i].reshape(8, 8), cmap='gray')\n",
        "    ax.set_title(f\"Label: {y[i]}\")\n",
        "    ax.axis('off')\n",
        "\n",
        "plt.tight_layout()\n",
        "plt.show()"
      ],
      "metadata": {
        "colab": {
          "base_uri": "https://localhost:8080/",
          "height": 180
        },
        "id": "_CrCzTC2QDvH",
        "outputId": "83f78896-f69e-41b1-f9cd-91bbde92dbd0"
      },
      "execution_count": null,
      "outputs": [
        {
          "output_type": "display_data",
          "data": {
            "text/plain": [
              "<Figure size 1000x300 with 5 Axes>"
            ],
            "image/png": "[encoded data removed]"
          },
          "metadata": {}
        }
      ]
    },
    {
      "cell_type": "code",
      "source": [
        "# Calculate the number of samples and features\n",
        "num_samples, num_features = X.shape\n",
        "\n",
        "# Calculate the number of unique classes (species)\n",
        "num_unique_classes = len(np.unique(y))\n",
        "\n",
        "print(f'Number of samples: {num_samples}')\n",
        "print(f'Number of features: {num_features}')\n",
        "print(f'Number of unique classes: {num_unique_classes}')\n"
      ],
      "metadata": {
        "colab": {
          "base_uri": "https://localhost:8080/"
        },
        "id": "YERF1-xCQKfX",
        "outputId": "b37e25c1-14cd-4158-d130-f8c08f5ce43e"
      },
      "execution_count": null,
      "outputs": [
        {
          "output_type": "stream",
          "name": "stdout",
          "text": [
            "Number of samples: 1797\n",
            "Number of features: 64\n",
            "Number of unique classes: 10\n"
          ]
        }
      ]
    },
    {
      "cell_type": "code",
      "source": [
        "import numpy as np\n",
        "from sklearn.datasets import load_digits\n",
        "from sklearn.svm import SVC\n",
        "\n",
        "# Load the Digits dataset and train an SVM classifier\n",
        "digits = load_digits()\n",
        "X = digits.data\n",
        "y = digits.target\n",
        "\n",
        "model = SVC(kernel='linear', random_state=42)\n",
        "model.fit(X, y)\n",
        "\n",
        "# Define the sample with the correct shape\n",
        "x1 = np.array([0., 2., 13., 16., 10., 0., 0., 0., 0., 6., 13., 10., 16.,  0., 0., 0., 0., 0., 0., 8., 14., 0., 0., 0., 0., 0.,  1., 14., 9., 0., 0., 0., 0., 0., 9., 14., 1., 0., 0.,  0., 0., 1., 14., 7., 0., 0., 1., 0., 0., 4., 16., 5.,  7., 12., 14., 0., 0., 3., 15., 16., 16., 10., 1., 0.])\n",
        "\n",
        "# Reshape the sample to be a 2D array with 1 sample and 64 features\n",
        "x1 = x1.reshape(1, -1)\n",
        "\n",
        "# Predict the class for the new sample\n",
        "y1 = model.predict(x1)\n",
        "\n",
        "# Print the predicted class\n",
        "print(f\"Predicted class: {y1[0]}\")"
      ],
      "metadata": {
        "colab": {
          "base_uri": "https://localhost:8080/"
        },
        "id": "pmhvfkPUQoSW",
        "outputId": "77f53800-9ee0-4180-b4fd-50d0a52bb4cb"
      },
      "execution_count": null,
      "outputs": [
        {
          "output_type": "stream",
          "name": "stdout",
          "text": [
            "Predicted class: 2\n"
          ]
        }
      ]
    },
    {
      "cell_type": "code",
      "source": [
        "import numpy as np\n",
        "from sklearn.datasets import load_digits\n",
        "from sklearn.svm import SVC\n",
        "\n",
        "# Load the Digits dataset and train an SVM classifier\n",
        "digits = load_digits()\n",
        "X = digits.data\n",
        "y = digits.target\n",
        "\n",
        "model = SVC(kernel='linear', random_state=42)\n",
        "model.fit(X, y)\n",
        "\n",
        "# Define the sample with the correct shape\n",
        "x2 = np.array([ 0., 0., 8., 15., 12., 4., 0., 0., 0., 5., 14., 4., 11.,  7., 0., 0., 0., 0., 0., 1., 14., 3., 0., 0., 0., 0.,  2., 15., 14., 1., 0., 0., 0., 0., 0., 8., 13., 11., 0.,  0., 0., 0., 0., 0., 0., 13., 5., 0., 0., 0., 12., 2.,  3., 12., 7., 0., 0., 0., 13., 16., 15., 8., 0., 0.])\n",
        "\n",
        "# Reshape the sample to be a 2D array with 1 sample and 64 features\n",
        "x2 = x2.reshape(1, -1)\n",
        "\n",
        "# Predict the class for the new sample\n",
        "y1 = model.predict(x2)\n",
        "\n",
        "# Print the predicted class\n",
        "print(f\"Predicted class: {y1[0]}\")"
      ],
      "metadata": {
        "colab": {
          "base_uri": "https://localhost:8080/"
        },
        "id": "olhG13YrshT-",
        "outputId": "158ce445-84b7-4512-b61e-674215c24a17"
      },
      "execution_count": null,
      "outputs": [
        {
          "output_type": "stream",
          "name": "stdout",
          "text": [
            "Predicted class: 3\n"
          ]
        }
      ]
    },
    {
      "cell_type": "code",
      "source": [
        "import numpy as np\n",
        "from sklearn.datasets import load_digits\n",
        "from sklearn.svm import SVC\n",
        "\n",
        "# Load the Digits dataset and train an SVM classifier\n",
        "digits = load_digits()\n",
        "X = digits.data\n",
        "y = digits.target\n",
        "\n",
        "model = SVC(kernel='linear', random_state=42)\n",
        "model.fit(X, y)\n",
        "\n",
        "# Define the sample with the correct shape\n",
        "x3 = np.array([ 0., 0., 2., 12., 12., 12., 9., 2., 0., 0., 9., 15., 12.,  13., 16., 5., 0., 0., 12., 8., 0., 8., 10., 0., 0., 1.,  16., 3., 3., 15., 2., 0., 0., 1., 3., 0., 12., 7., 0.,  0., 0., 0., 0., 4., 13., 0., 0., 0., 0., 0., 0., 13.,  9., 0., 0., 0., 0., 0., 3., 15., 3., 0., 0., 0.])\n",
        "\n",
        "# Reshape the sample to be a 2D array with 1 sample and 64 features\n",
        "x3 = x3.reshape(1, -1)\n",
        "\n",
        "# Predict the class for the new sample\n",
        "y1 = model.predict(x3)\n",
        "\n",
        "# Print the predicted class\n",
        "print(f\"Predicted class: {y1[0]}\")"
      ],
      "metadata": {
        "colab": {
          "base_uri": "https://localhost:8080/"
        },
        "id": "QUxfLkLbs7Da",
        "outputId": "c9abf981-1606-47ed-fcb5-61f86b765d03"
      },
      "execution_count": null,
      "outputs": [
        {
          "output_type": "stream",
          "name": "stdout",
          "text": [
            "Predicted class: 7\n"
          ]
        }
      ]
    },
    {
      "cell_type": "code",
      "source": [
        "import numpy as np\n",
        "from sklearn.datasets import load_digits\n",
        "from sklearn.svm import SVC\n",
        "\n",
        "# Load the Digits dataset and train an SVM classifier\n",
        "digits = load_digits()\n",
        "X = digits.data\n",
        "y = digits.target\n",
        "\n",
        "model = SVC(kernel='linear', random_state=42)\n",
        "model.fit(X, y)\n",
        "\n",
        "# Define the sample with the correct shape\n",
        "x4 = np.array([0., 0., 8., 12., 16., 16., 9., 0., 0., 4., 16., 16., 13.,  9., 2., 0., 0., 11., 14., 4., 0., 0., 0., 0., 0., 7.,  15., 10., 1., 0., 0., 0., 0., 0., 12., 16., 13., 1., 0.,  0., 0., 0., 0., 4., 16., 4., 0., 0., 0., 0., 5., 10.,  16., 3., 0., 0., 0., 0., 9., 16., 10., 0., 0., 0.])\n",
        "\n",
        "# Reshape the sample to be a 2D array with 1 sample and 64 features\n",
        "x4 = x4.reshape(1, -1)\n",
        "\n",
        "# Predict the class for the new sample\n",
        "y1 = model.predict(x4)\n",
        "\n",
        "# Print the predicted class\n",
        "print(f\"Predicted class: {y1[0]}\")"
      ],
      "metadata": {
        "colab": {
          "base_uri": "https://localhost:8080/"
        },
        "id": "Q4wZgXFDtPiP",
        "outputId": "debe0c5b-f424-4aa2-a758-a1c351fdd593"
      },
      "execution_count": null,
      "outputs": [
        {
          "output_type": "stream",
          "name": "stdout",
          "text": [
            "Predicted class: 5\n"
          ]
        }
      ]
    },
    {
      "cell_type": "code",
      "source": [
        "import numpy as np\n",
        "from sklearn.datasets import load_digits\n",
        "from sklearn.svm import SVC\n",
        "\n",
        "# Load the Digits dataset and train an SVM classifier\n",
        "digits = load_digits()\n",
        "X = digits.data\n",
        "y = digits.target\n",
        "\n",
        "model = SVC(kernel='linear', random_state=42)\n",
        "model.fit(X, y)\n",
        "\n",
        "# Define the sample with the correct shape\n",
        "x5 = np.array([0., 0., 4., 16., 16., 4., 0., 0., 0., 0., 12., 11., 7.,  11., 0., 0., 0., 0., 9., 2., 5., 12., 0., 0., 0., 0.,  0., 0., 7., 11., 0., 0., 0., 0., 0., 0., 13., 6., 0.,  0., 0., 0., 0., 2., 16., 1., 0., 0., 0., 0., 1., 15.,  15., 10., 1., 0., 0., 0., 5., 16., 8., 11., 11., 0.])\n",
        "\n",
        "# Reshape the sample to be a 2D array with 1 sample and 64 features\n",
        "x5 = x5.reshape(1, -1)\n",
        "\n",
        "# Predict the class for the new sample\n",
        "y1 = model.predict(x5)\n",
        "\n",
        "# Print the predicted class\n",
        "print(f\"Predicted class: {y1[0]}\")"
      ],
      "metadata": {
        "colab": {
          "base_uri": "https://localhost:8080/"
        },
        "id": "fAmVmu5NtN0D",
        "outputId": "cf6e4062-3595-4cf5-9766-70deb7224a45"
      },
      "execution_count": null,
      "outputs": [
        {
          "output_type": "stream",
          "name": "stdout",
          "text": [
            "Predicted class: 2\n"
          ]
        }
      ]
    },
    {
      "cell_type": "code",
      "source": [
        "import numpy as np\n",
        "\n",
        "# Parameters\n",
        "num_cars = 10\n",
        "num_laps = 90\n",
        "mean_lap_time = 90\n",
        "std_dev_lap_time = 0.8\n",
        "num_races = 10000\n",
        "start_times = np.arange(num_cars)  # Cars leave 1 second apart\n",
        "\n",
        "# Initialize counter for the number of wins by the 7th car\n",
        "wins_by_7th_car = 0\n",
        "\n",
        "# Simulation\n",
        "for _ in range(num_races):\n",
        "    # Generate lap times for each car\n",
        "    lap_times = np.random.normal(loc=mean_lap_time, scale=std_dev_lap_time, size=(num_cars, num_laps))\n",
        "\n",
        "    # Add the start times to each car's lap times\n",
        "    total_times = np.sum(lap_times, axis=1) + start_times\n",
        "\n",
        "    # Determine the winner\n",
        "    winner = np.argmin(total_times)\n",
        "\n",
        "    # Check if the 7th car (index 6) is the winner\n",
        "    if winner == 6:\n",
        "        wins_by_7th_car += 1\n",
        "\n",
        "print(f\"Number of times the car that leaves 7th wins: {wins_by_7th_car}\")\n"
      ],
      "metadata": {
        "colab": {
          "base_uri": "https://localhost:8080/"
        },
        "id": "0JKPnPsGt3L-",
        "outputId": "94f2e52e-bd0e-42d3-e245-459ce5454ac3"
      },
      "execution_count": null,
      "outputs": [
        {
          "output_type": "stream",
          "name": "stdout",
          "text": [
            "Number of times the car that leaves 7th wins: 617\n"
          ]
        }
      ]
    },
    {
      "cell_type": "code",
      "source": [
        "import numpy as np\n",
        "\n",
        "# Parameters\n",
        "num_cars = 10\n",
        "num_laps = 90\n",
        "mean_lap_time = 90\n",
        "std_dev_lap_time = 0.8\n",
        "num_races = 10000\n",
        "start_times = np.arange(num_cars)  # Cars leave 1 second apart\n",
        "\n",
        "# Initialize counter for the number of wins by the 7th car\n",
        "wins_by_7th_car = 0\n",
        "\n",
        "# Simulation\n",
        "for _ in range(num_races):\n",
        "    # Generate lap times for each car\n",
        "    lap_times = np.random.normal(loc=mean_lap_time, scale=std_dev_lap_time, size=(num_cars, num_laps))\n",
        "\n",
        "    # Add the start times to each car's lap times\n",
        "    total_times = np.sum(lap_times, axis=1) + start_times\n",
        "\n",
        "    # Determine the winner\n",
        "    winner = np.argmin(total_times)\n",
        "\n",
        "    # Check if the 7th car (index 6) is the winner\n",
        "    if winner == 6:\n",
        "        wins_by_7th_car += 1\n",
        "\n",
        "print(f\"Number of times the car that leaves 7th wins: {wins_by_7th_car}\")\n"
      ],
      "metadata": {
        "colab": {
          "base_uri": "https://localhost:8080/"
        },
        "id": "od8lxT8Ct5o5",
        "outputId": "8ec6030c-f472-4c97-bbca-941199c8affe"
      },
      "execution_count": null,
      "outputs": [
        {
          "output_type": "stream",
          "name": "stdout",
          "text": [
            "Number of times the car that leaves 7th wins: 586\n"
          ]
        }
      ]
    },
    {
      "cell_type": "code",
      "source": [
        "import numpy as np\n",
        "\n",
        "# Set the random seed for reproducibility (optional)\n",
        "np.random.seed(42)\n",
        "\n",
        "# Parameters\n",
        "num_races = 10000\n",
        "num_cars = 10\n",
        "num_laps = 90\n",
        "mean_lap_time = 90\n",
        "std_dev_lap_time = 0.8\n",
        "start_times = np.arange(num_cars)\n",
        "overtake_penalty = 0.8\n",
        "\n",
        "# Counter for wins by the 7th car\n",
        "wins_by_7th_car = 0\n",
        "\n",
        "# Simulation\n",
        "for _ in range(num_races):\n",
        "    # Initialize total times and lap penalties\n",
        "    total_times = np.zeros(num_cars)\n",
        "    lap_times = np.zeros((num_cars, num_laps))\n",
        "\n",
        "    for lap in range(num_laps):\n",
        "        # Generate lap times for each car for this lap\n",
        "        lap_times[:, lap] = np.random.normal(loc=mean_lap_time, scale=std_dev_lap_time, size=num_cars)\n",
        "\n",
        "        # Add the start times to the lap times for this lap\n",
        "        lap_times_with_start = lap_times[:, lap] + start_times\n",
        "\n",
        "        # Determine the order of cars based on their lap times\n",
        "        order = np.argsort(lap_times_with_start)\n",
        "\n",
        "        # Calculate penalties based on overtaking\n",
        "        penalties = np.zeros(num_cars)\n",
        "        for position in range(num_cars):\n",
        "            car = order[position]\n",
        "            # Cars ahead in the current lap\n",
        "            for ahead in range(position):\n",
        "                penalties[car] += overtake_penalty\n",
        "\n",
        "        # Update total times with lap times and penalties\n",
        "        total_times += lap_times[:, lap] + penalties\n",
        "\n",
        "    # Determine the winner\n",
        "    winner = np.argmin(total_times)\n",
        "\n",
        "    # Check if the 7th car (index 6) is the winner\n",
        "    if winner == 6:\n",
        "        wins_by_7th_car += 1\n",
        "\n",
        "print(f\"Number of times the car that leaves 7th wins: {wins_by_7th_car}\")\n"
      ],
      "metadata": {
        "colab": {
          "base_uri": "https://localhost:8080/"
        },
        "id": "UuUa8DyEuNn5",
        "outputId": "93139a60-de96-4c2d-a97c-2d3efe8d337b"
      },
      "execution_count": null,
      "outputs": [
        {
          "output_type": "stream",
          "name": "stdout",
          "text": [
            "Number of times the car that leaves 7th wins: 0\n"
          ]
        }
      ]
    },
    {
      "cell_type": "code",
      "source": [
        "import numpy as np\n",
        "\n",
        "# Set the random seed for reproducibility (optional)\n",
        "np.random.seed(42)\n",
        "\n",
        "# Parameters\n",
        "num_races = 10000\n",
        "num_cars = 10\n",
        "num_laps = 90\n",
        "mean_lap_time = 90\n",
        "std_dev_lap_time = 0.8\n",
        "start_times = np.arange(num_cars)\n",
        "overtake_penalty = 0.8\n",
        "crash_probability = 0.001\n",
        "\n",
        "# Counter for wins by the 7th car\n",
        "wins_by_7th_car = 0\n",
        "\n",
        "# Simulation\n",
        "for _ in range(num_races):\n",
        "    # Initialize total times and lap penalties\n",
        "    total_times = np.zeros(num_cars)\n",
        "    lap_times = np.zeros((num_cars, num_laps))\n",
        "    in_race = np.ones(num_cars, dtype=bool)  # Track which cars are still in the race\n",
        "\n",
        "    for lap in range(num_laps):\n",
        "        if np.sum(in_race) <= 1:\n",
        "            break  # Stop if only one car is left\n",
        "\n",
        "        # Generate lap times for each car for this lap\n",
        "        lap_times[:, lap] = np.random.normal(loc=mean_lap_time, scale=std_dev_lap_time, size=num_cars)\n",
        "\n",
        "        # Add the start times to the lap times for this lap\n",
        "        lap_times_with_start = lap_times[:, lap] + start_times\n",
        "\n",
        "        # Determine the order of cars based on their lap times\n",
        "        order = np.argsort(lap_times_with_start)\n",
        "\n",
        "        # Calculate penalties based on overtaking\n",
        "        penalties = np.zeros(num_cars)\n",
        "        for position in range(num_cars):\n",
        "            car = order[position]\n",
        "            if not in_race[car]:\n",
        "                continue  # Skip if the car has crashed\n",
        "            # Cars ahead in the current lap\n",
        "            for ahead in range(position):\n",
        "                overtaken_car = order[ahead]\n",
        "                if np.random.rand() < crash_probability:\n",
        "                    in_race[overtaken_car] = False\n",
        "                penalties[car] += overtake_penalty\n",
        "\n",
        "        # Update total times with lap times and penalties\n",
        "        total_times += lap_times[:, lap] + penalties\n",
        "\n",
        "    # Only consider cars still in the race\n",
        "    if np.sum(in_race) > 0:\n",
        "        # Determine the winner among the cars still in the race\n",
        "        remaining_cars = np.where(in_race)[0]\n",
        "        remaining_times = total_times[remaining_cars]\n",
        "        winner = remaining_cars[np.argmin(remaining_times)]\n",
        "\n",
        "        # Check if the 7th car (index 6) is the winner\n",
        "        if winner == 6:\n",
        "            wins_by_7th_car += 1\n",
        "\n",
        "print(f\"Number of times the car that leaves 7th wins: {wins_by_7th_car}\")\n"
      ],
      "metadata": {
        "colab": {
          "base_uri": "https://localhost:8080/"
        },
        "id": "QeZK53reuYoC",
        "outputId": "661b4604-4926-44d1-83b2-659cc257d0eb"
      },
      "execution_count": null,
      "outputs": [
        {
          "output_type": "stream",
          "name": "stdout",
          "text": [
            "Number of times the car that leaves 7th wins: 20\n"
          ]
        }
      ]
    }
  ]
}